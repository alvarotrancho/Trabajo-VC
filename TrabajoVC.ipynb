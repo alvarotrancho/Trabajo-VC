{
 "cells": [
  {
   "cell_type": "markdown",
   "id": "b1596682",
   "metadata": {},
   "source": [
    "## Importación de módulos"
   ]
  },
  {
   "cell_type": "code",
   "execution_count": 15,
   "id": "af524c80",
   "metadata": {},
   "outputs": [],
   "source": [
    "from collections import defaultdict\n",
    "import cv2\n",
    "import numpy as np\n",
    "from ultralytics import YOLO"
   ]
  },
  {
   "cell_type": "markdown",
   "id": "80629c98",
   "metadata": {},
   "source": [
    "## Aplicación interactiva"
   ]
  },
  {
   "cell_type": "code",
   "execution_count": null,
   "id": "9cbc1cec",
   "metadata": {},
   "outputs": [],
   "source": [
    "\n",
    "model = YOLO('yolov8n.pt')\n",
    "\n",
    "video_path = \"videos/traffic.mp4\"\n",
    "cap = cv2.VideoCapture(video_path)\n",
    "\n",
    "track_history = defaultdict(lambda: [])\n",
    "\n",
    "while cap.isOpened():\n",
    "\n",
    "    success, frame = cap.read()\n",
    "\n",
    "    if success:\n",
    "        results = model.track(frame, persist=True)\n",
    "\n",
    "        # Get the boxes and track IDs\n",
    "        boxes = results[0].boxes.xywh.cpu()\n",
    "        track_ids = results[0].boxes.id.int().cpu().tolist()\n",
    "\n",
    "        # Visualize the results on the frame\n",
    "        annotated_frame = results[0].plot()\n",
    "\n",
    "        # Plot the tracks and calculate speed\n",
    "        for box, track_id in zip(boxes, track_ids):\n",
    "            x, y, w, h = box\n",
    "            track = track_history[track_id]\n",
    "            track.append((float(x), float(y))) \n",
    "            if len(track) > 30: \n",
    "                track.pop(0)\n",
    "\n",
    "            points = np.hstack(track).astype(np.int32).reshape((-1, 1, 2))\n",
    "            cv2.polylines(annotated_frame, [points], isClosed=False, color=(230, 230, 230), thickness=5)\n",
    "\n",
    "            # Calculate speed and infer direction based on the shape of the vehicle contour and tracking direction\n",
    "            if len(track) >= 2:\n",
    "                current_pos = np.array(track[-1])\n",
    "                previous_pos = np.array(track[-2])\n",
    "                speed = np.linalg.norm(current_pos - previous_pos)\n",
    "\n",
    "                # Infer direction based on the shape of the vehicle contour and tracking direction\n",
    "                contour = np.array([[int(x), int(y)], [int(x + w), int(y)], [int(x + w), int(y + h)], [int(x), int(y + h)]])\n",
    "                rect = cv2.minAreaRect(contour)\n",
    "                angle = rect[2]\n",
    "\n",
    "                # Calculate the direction of movement of the rectangle\n",
    "                rect_direction = \"Este\" if current_pos[0] > previous_pos[0] else \"Oeste\"\n",
    "\n",
    "                if -45 <= angle < 45:\n",
    "                    direction = \"Este\" if rect_direction == \"Este\" else \"Oeste\"\n",
    "                else:\n",
    "                    direction = \"Norte\" if current_pos[1] < previous_pos[1] else \"Sur\"\n",
    "\n",
    "                # Display speed and direction on the frame\n",
    "                cv2.putText(annotated_frame, f\"Speed: {speed:.2f} px/frame\", (int(x), int(y) - 10),\n",
    "                            cv2.FONT_HERSHEY_SIMPLEX, 0.5, (255, 255, 255), 2)\n",
    "                cv2.putText(annotated_frame, f\"Direction: {direction}\", (int(x), int(y) + 20),\n",
    "                            cv2.FONT_HERSHEY_SIMPLEX, 0.5, (255, 255, 255), 2)\n",
    "\n",
    "        # Display the annotated frame\n",
    "        cv2.imshow(\"YOLOv8 Tracking\", annotated_frame)\n",
    "\n",
    "        # Break the loop if 'q' is pressed\n",
    "        if cv2.waitKey(1) & 0xFF == ord(\"q\"):\n",
    "            break\n",
    "    else:\n",
    "        break\n",
    "\n",
    "# Release the video capture object and close the display window\n",
    "cap.release()\n",
    "cv2.destroyAllWindows()"
   ]
  }
 ],
 "metadata": {
  "kernelspec": {
   "display_name": "Python 3.9.0 ('deepface')",
   "language": "python",
   "name": "python3"
  },
  "language_info": {
   "codemirror_mode": {
    "name": "ipython",
    "version": 3
   },
   "file_extension": ".py",
   "mimetype": "text/x-python",
   "name": "python",
   "nbconvert_exporter": "python",
   "pygments_lexer": "ipython3",
   "version": "3.9.18"
  },
  "vscode": {
   "interpreter": {
    "hash": "12028effb1af0cd2244438ff9b17d06bb1d7695ec7a554a144e43ec4b8b79006"
   }
  }
 },
 "nbformat": 4,
 "nbformat_minor": 5
}
