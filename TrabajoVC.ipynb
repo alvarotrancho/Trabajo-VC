{
 "cells": [
  {
   "cell_type": "markdown",
   "id": "b1596682",
   "metadata": {},
   "source": [
    "## Importación de módulos"
   ]
  },
  {
   "cell_type": "code",
   "execution_count": 31,
   "id": "af524c80",
   "metadata": {},
   "outputs": [],
   "source": [
    "import cv2\n",
    "import mediapipe as mp\n",
    "import os\n",
    "from mediapipe.tasks import python\n",
    "from mediapipe.tasks.python import vision"
   ]
  },
  {
   "cell_type": "markdown",
   "id": "80629c98",
   "metadata": {},
   "source": [
    "## Aplicación interactiva"
   ]
  },
  {
   "cell_type": "code",
   "execution_count": 33,
   "id": "9cbc1cec",
   "metadata": {},
   "outputs": [
    {
     "ename": "RuntimeError",
     "evalue": "Unable to open file at c:\\Anaconda\\envs\\mediapipe\\Lib\\site-packages/f:\\ULPGC\\Cuarto\\VC\\Practica7\\VC_P7\\gesture_recognizer.task, errno=22",
     "output_type": "error",
     "traceback": [
      "\u001b[1;31m---------------------------------------------------------------------------\u001b[0m",
      "\u001b[1;31mRuntimeError\u001b[0m                              Traceback (most recent call last)",
      "Cell \u001b[1;32mIn[33], line 15\u001b[0m\n\u001b[0;32m      9\u001b[0m     \u001b[38;5;28mprint\u001b[39m(\u001b[38;5;124m'\u001b[39m\u001b[38;5;124mgesture recognition result: \u001b[39m\u001b[38;5;132;01m{}\u001b[39;00m\u001b[38;5;124m'\u001b[39m\u001b[38;5;241m.\u001b[39mformat(result))\n\u001b[0;32m     11\u001b[0m options \u001b[38;5;241m=\u001b[39m GestureRecognizerOptions(\n\u001b[0;32m     12\u001b[0m     base_options\u001b[38;5;241m=\u001b[39mpython\u001b[38;5;241m.\u001b[39mBaseOptions(model_asset_path\u001b[38;5;241m=\u001b[39mmodel_path),\n\u001b[0;32m     13\u001b[0m     running_mode\u001b[38;5;241m=\u001b[39mVisionRunningMode\u001b[38;5;241m.\u001b[39mLIVE_STREAM,\n\u001b[0;32m     14\u001b[0m     result_callback\u001b[38;5;241m=\u001b[39mprint_result)\n\u001b[1;32m---> 15\u001b[0m recognizer \u001b[38;5;241m=\u001b[39m GestureRecognizer\u001b[38;5;241m.\u001b[39mcreate_from_options(options)\n\u001b[0;32m     17\u001b[0m mp_drawing \u001b[38;5;241m=\u001b[39m mp\u001b[38;5;241m.\u001b[39msolutions\u001b[38;5;241m.\u001b[39mdrawing_utils\n\u001b[0;32m     18\u001b[0m mp_hands \u001b[38;5;241m=\u001b[39m mp\u001b[38;5;241m.\u001b[39msolutions\u001b[38;5;241m.\u001b[39mhands\n",
      "File \u001b[1;32mc:\\Anaconda\\envs\\mediapipe\\Lib\\site-packages\\mediapipe\\tasks\\python\\vision\\gesture_recognizer.py:340\u001b[0m, in \u001b[0;36mGestureRecognizer.create_from_options\u001b[1;34m(cls, options)\u001b[0m\n\u001b[0;32m    317\u001b[0m   options\u001b[38;5;241m.\u001b[39mresult_callback(\n\u001b[0;32m    318\u001b[0m       gesture_recognizer_result,\n\u001b[0;32m    319\u001b[0m       image,\n\u001b[0;32m    320\u001b[0m       timestamp\u001b[38;5;241m.\u001b[39mvalue \u001b[38;5;241m/\u001b[39m\u001b[38;5;241m/\u001b[39m _MICRO_SECONDS_PER_MILLISECOND,\n\u001b[0;32m    321\u001b[0m   )\n\u001b[0;32m    323\u001b[0m task_info \u001b[38;5;241m=\u001b[39m _TaskInfo(\n\u001b[0;32m    324\u001b[0m     task_graph\u001b[38;5;241m=\u001b[39m_TASK_GRAPH_NAME,\n\u001b[0;32m    325\u001b[0m     input_streams\u001b[38;5;241m=\u001b[39m[\n\u001b[1;32m   (...)\u001b[0m\n\u001b[0;32m    338\u001b[0m     task_options\u001b[38;5;241m=\u001b[39moptions,\n\u001b[0;32m    339\u001b[0m )\n\u001b[1;32m--> 340\u001b[0m \u001b[38;5;28;01mreturn\u001b[39;00m \u001b[38;5;28mcls\u001b[39m(\n\u001b[0;32m    341\u001b[0m     task_info\u001b[38;5;241m.\u001b[39mgenerate_graph_config(\n\u001b[0;32m    342\u001b[0m         enable_flow_limiting\u001b[38;5;241m=\u001b[39moptions\u001b[38;5;241m.\u001b[39mrunning_mode\n\u001b[0;32m    343\u001b[0m         \u001b[38;5;241m==\u001b[39m _RunningMode\u001b[38;5;241m.\u001b[39mLIVE_STREAM\n\u001b[0;32m    344\u001b[0m     ),\n\u001b[0;32m    345\u001b[0m     options\u001b[38;5;241m.\u001b[39mrunning_mode,\n\u001b[0;32m    346\u001b[0m     packets_callback \u001b[38;5;28;01mif\u001b[39;00m options\u001b[38;5;241m.\u001b[39mresult_callback \u001b[38;5;28;01melse\u001b[39;00m \u001b[38;5;28;01mNone\u001b[39;00m,\n\u001b[0;32m    347\u001b[0m )\n",
      "File \u001b[1;32mc:\\Anaconda\\envs\\mediapipe\\Lib\\site-packages\\mediapipe\\tasks\\python\\vision\\core\\base_vision_task_api.py:70\u001b[0m, in \u001b[0;36mBaseVisionTaskApi.__init__\u001b[1;34m(self, graph_config, running_mode, packet_callback)\u001b[0m\n\u001b[0;32m     65\u001b[0m \u001b[38;5;28;01melif\u001b[39;00m packet_callback:\n\u001b[0;32m     66\u001b[0m   \u001b[38;5;28;01mraise\u001b[39;00m \u001b[38;5;167;01mValueError\u001b[39;00m(\n\u001b[0;32m     67\u001b[0m       \u001b[38;5;124m'\u001b[39m\u001b[38;5;124mThe vision task is in image or video mode, a user-defined result \u001b[39m\u001b[38;5;124m'\u001b[39m\n\u001b[0;32m     68\u001b[0m       \u001b[38;5;124m'\u001b[39m\u001b[38;5;124mcallback should not be provided.\u001b[39m\u001b[38;5;124m'\u001b[39m\n\u001b[0;32m     69\u001b[0m   )\n\u001b[1;32m---> 70\u001b[0m \u001b[38;5;28mself\u001b[39m\u001b[38;5;241m.\u001b[39m_runner \u001b[38;5;241m=\u001b[39m _TaskRunner\u001b[38;5;241m.\u001b[39mcreate(graph_config, packet_callback)\n\u001b[0;32m     71\u001b[0m \u001b[38;5;28mself\u001b[39m\u001b[38;5;241m.\u001b[39m_running_mode \u001b[38;5;241m=\u001b[39m running_mode\n",
      "\u001b[1;31mRuntimeError\u001b[0m: Unable to open file at c:\\Anaconda\\envs\\mediapipe\\Lib\\site-packages/f:\\ULPGC\\Cuarto\\VC\\Practica7\\VC_P7\\gesture_recognizer.task, errno=22"
     ]
    }
   ],
   "source": [
    "# Definir funciones y opciones\n",
    "BaseOptions = mp.tasks.BaseOptions\n",
    "GestureRecognizer = mp.tasks.vision.GestureRecognizer\n",
    "GestureRecognizerOptions = mp.tasks.vision.GestureRecognizerOptions\n",
    "GestureRecognizerResult = mp.tasks.vision.GestureRecognizerResult\n",
    "VisionRunningMode = mp.tasks.vision.RunningMode\n",
    "\n",
    "model_path = os.path.abspath('gesture_recognizer.task')\n",
    "print(\"Ruta del modelo:\", model_path)\n",
    "\n",
    "def print_result(result: GestureRecognizerResult, output_image: mp.Image, timestamp_ms: int):\n",
    "    print('gesture recognition result: {}'.format(result))\n",
    "\n",
    "# Crear opciones para el reconocedor de gestos\n",
    "options = GestureRecognizerOptions(\n",
    "    base_options=BaseOptions(model_asset_path=model_path),\n",
    "    running_mode=VisionRunningMode.LIVE_STREAM,\n",
    "    result_callback=print_result)\n",
    "\n",
    "# Crear el reconocedor de gestos\n",
    "with GestureRecognizer.create_from_options(options) as recognizer:\n",
    "    # Inicializar la captura de video desde la cámara\n",
    "    cap = cv2.VideoCapture(0)\n",
    "\n",
    "    while cap.isOpened():\n",
    "        # Leer un frame de la cámara\n",
    "        ret, frame = cap.read()\n",
    "        if not ret:\n",
    "            break\n",
    "\n",
    "        # Convertir el frame a RGB (MediaPipe requiere imágenes en formato RGB)\n",
    "        rgb_frame = cv2.cvtColor(frame, cv2.COLOR_BGR2RGB)\n",
    "\n",
    "        # Convertir el frame de OpenCV a un objeto Image de MediaPipe\n",
    "        mp_image = mp.Image(image_format=mp.ImageFormat.SRGB, data=rgb_frame)\n",
    "\n",
    "        # Obtener la marca de tiempo del frame\n",
    "        frame_timestamp_ms = cap.get(cv2.CAP_PROP_POS_MSEC)\n",
    "\n",
    "        # Realizar el reconocimiento de gestos en el frame actual\n",
    "        recognizer.recognize_async(mp_image, frame_timestamp_ms)\n",
    "\n",
    "        # Hacer algo con el frame si es necesario\n",
    "        # Por ejemplo, dibujar puntos, líneas, etc.\n",
    "\n",
    "        # Mostrar la imagen resultante\n",
    "        cv2.imshow('Gesture Recognition', frame)\n",
    "\n",
    "        # Salir del bucle si se presiona 'Esc'\n",
    "        if cv2.waitKey(1) & 0xFF == 27:\n",
    "            break\n",
    "\n",
    "    # Liberar recursos\n",
    "    cap.release()\n",
    "    cv2.destroyAllWindows()\n",
    "\n",
    "    "
   ]
  }
 ],
 "metadata": {
  "kernelspec": {
   "display_name": "Python 3.9.0 ('deepface')",
   "language": "python",
   "name": "python3"
  },
  "language_info": {
   "codemirror_mode": {
    "name": "ipython",
    "version": 3
   },
   "file_extension": ".py",
   "mimetype": "text/x-python",
   "name": "python",
   "nbconvert_exporter": "python",
   "pygments_lexer": "ipython3",
   "version": "3.11.5"
  },
  "vscode": {
   "interpreter": {
    "hash": "12028effb1af0cd2244438ff9b17d06bb1d7695ec7a554a144e43ec4b8b79006"
   }
  }
 },
 "nbformat": 4,
 "nbformat_minor": 5
}
